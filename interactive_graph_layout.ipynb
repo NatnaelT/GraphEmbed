{
 "cells": [
  {
   "cell_type": "markdown",
   "metadata": {},
   "source": [
    "# 2D Embedding of High Dimensional Instances"
   ]
  },
  {
   "cell_type": "code",
   "execution_count": 1,
   "metadata": {},
   "outputs": [
    {
     "data": {
      "text/html": [
       "<style>.container { width:95% !important; }</style><style>.output_png {display: table-cell;text-align: center;vertical-align: middle;}</style>"
      ],
      "text/plain": [
       "<IPython.core.display.HTML object>"
      ]
     },
     "execution_count": 1,
     "metadata": {},
     "output_type": "execute_result"
    }
   ],
   "source": [
    "%matplotlib inline\n",
    "%load_ext autoreload\n",
    "%autoreload 2\n",
    "import logging\n",
    "from eden.util import configure_logging\n",
    "configure_logging(logging.getLogger(), verbosity=1)\n",
    "from IPython.core.display import HTML\n",
    "HTML('<style>.container { width:95% !important; }</style><style>.output_png {display: table-cell;text-align: center;vertical-align: middle;}</style>')"
   ]
  },
  {
   "cell_type": "code",
   "execution_count": 2,
   "metadata": {
    "collapsed": true
   },
   "outputs": [],
   "source": [
    "import numpy as np\n",
    "import os\n",
    "import sys\n",
    "import matplotlib.pyplot as plt"
   ]
  },
  {
   "cell_type": "code",
   "execution_count": 3,
   "metadata": {},
   "outputs": [
    {
     "name": "stdout",
     "output_type": "stream",
     "text": [
      "2017_07_10_11_10_59\n"
     ]
    }
   ],
   "source": [
    "import time\n",
    "timestamp = time.strftime('%Y_%m_%d_%H_%M_%S')\n",
    "print timestamp"
   ]
  },
  {
   "cell_type": "code",
   "execution_count": 4,
   "metadata": {
    "collapsed": true
   },
   "outputs": [],
   "source": [
    "root_dir = '/Users/costa/work/COLLABORATIONS/FREIBURG/dominic_gruen/single_cell/' \n",
    "root_dir = '/home/fc334/Sync/COLLABORATIONS/FREIBURG/dominic_gruen/single_cell/' \n",
    "raw_data_dir = os.path.join(root_dir, 'data/2015-12-11')"
   ]
  },
  {
   "cell_type": "code",
   "execution_count": 5,
   "metadata": {
    "collapsed": true
   },
   "outputs": [],
   "source": [
    "# add the 'src' directory as one where we can import modules\n",
    "src_dir = '/Users/costa/ResilioSync/Sync/Projects/GraphEmbed'\n",
    "src_dir = '/home/fc334/Sync/Projects/GraphEmbed'\n",
    "sys.path.append(src_dir)"
   ]
  },
  {
   "cell_type": "markdown",
   "metadata": {},
   "source": [
    "# Parameters Setup"
   ]
  },
  {
   "cell_type": "code",
   "execution_count": 6,
   "metadata": {
    "collapsed": true
   },
   "outputs": [],
   "source": [
    "import os\n",
    "def make_file_names(name, suffix):\n",
    "    target_fname = os.path.join(raw_data_dir, name,'partition' + suffix)\n",
    "    data_fname = os.path.join(raw_data_dir, name,'fdata' + suffix)\n",
    "    tsne_fname = os.path.join(raw_data_dir, name,'tsne' + suffix)\n",
    "    return target_fname, data_fname, tsne_fname"
   ]
  },
  {
   "cell_type": "code",
   "execution_count": 7,
   "metadata": {
    "collapsed": true
   },
   "outputs": [],
   "source": [
    "name = 'um'\n",
    "suffix = '_UM.csv'"
   ]
  },
  {
   "cell_type": "code",
   "execution_count": 8,
   "metadata": {
    "collapsed": true
   },
   "outputs": [],
   "source": [
    "name = 'hippocampus'\n",
    "suffix = '_hippocampus.csv'"
   ]
  },
  {
   "cell_type": "code",
   "execution_count": 9,
   "metadata": {
    "collapsed": true
   },
   "outputs": [],
   "source": [
    "name = 'myeloid'\n",
    "suffix = '_my.csv'"
   ]
  },
  {
   "cell_type": "code",
   "execution_count": 10,
   "metadata": {
    "collapsed": true
   },
   "outputs": [],
   "source": [
    "name = 'bone_marrow'\n",
    "suffix = '_BMJhscC.csv'"
   ]
  },
  {
   "cell_type": "code",
   "execution_count": 11,
   "metadata": {
    "collapsed": true
   },
   "outputs": [],
   "source": [
    "name = 'pancrhcl'\n",
    "suffix = '_PANCRHCL.csv'"
   ]
  },
  {
   "cell_type": "code",
   "execution_count": 12,
   "metadata": {
    "collapsed": true
   },
   "outputs": [],
   "source": [
    "name = 'intestine'\n",
    "suffix = '_ADULT.csv'"
   ]
  },
  {
   "cell_type": "code",
   "execution_count": 13,
   "metadata": {
    "collapsed": true
   },
   "outputs": [],
   "source": [
    "target_fname, data_fname, tsne_fname = make_file_names(name, suffix)"
   ]
  },
  {
   "cell_type": "code",
   "execution_count": 14,
   "metadata": {},
   "outputs": [],
   "source": [
    "out_data_dir = os.path.join(root_dir, 'report/'+ timestamp + '_' + name)\n",
    "import os\n",
    "if not os.path.exists(out_data_dir): os.mkdir(out_data_dir)"
   ]
  },
  {
   "cell_type": "code",
   "execution_count": 15,
   "metadata": {
    "collapsed": true
   },
   "outputs": [],
   "source": [
    "# configure logger\n",
    "from eden.util import configure_logging\n",
    "import logging\n",
    "logger = logging.getLogger()\n",
    "log_fname = os.path.join(out_data_dir, 'log.txt')\n",
    "configure_logging(logger, verbosity=2, filename=log_fname)"
   ]
  },
  {
   "cell_type": "markdown",
   "metadata": {},
   "source": [
    "### Data acquisition and pre-processing"
   ]
  },
  {
   "cell_type": "code",
   "execution_count": 16,
   "metadata": {},
   "outputs": [
    {
     "name": "stdout",
     "output_type": "stream",
     "text": [
      "Reading data from file: /home/fc334/Sync/COLLABORATIONS/FREIBURG/dominic_gruen/single_cell/data/2015-12-11/intestine/fdata_ADULT.csv\n",
      "#instances:480  #features:1421\n",
      "Reading data from file: /home/fc334/Sync/COLLABORATIONS/FREIBURG/dominic_gruen/single_cell/data/2015-12-11/intestine/partition_ADULT.csv\n",
      "read 480 values \n",
      "original num classes: 27\n",
      "selected 19 classes with more than 5 instances\n",
      "num instances:462  num features:1421\n",
      "Normalization\n",
      "Correlation coefficient transformation\n",
      "num instances:462  num features:462\n",
      "CPU times: user 1.55 s, sys: 152 ms, total: 1.7 s\n",
      "Wall time: 554 ms\n"
     ]
    }
   ],
   "source": [
    "%%time\n",
    "from graph_embed import pre_process\n",
    "data_matrix, y, target_dict = pre_process(data_fname,\n",
    "                                          target_fname,\n",
    "                                          correlation_transformation=True,\n",
    "                                          normalization=True,\n",
    "                                          feature_selection=False,\n",
    "                                          min_threshold=5,\n",
    "                                          max_threshold=400,\n",
    "                                          random_state=1)"
   ]
  },
  {
   "cell_type": "code",
   "execution_count": 17,
   "metadata": {},
   "outputs": [
    {
     "name": "stderr",
     "output_type": "stream",
     "text": [
      "/home/fc334/miniconda2/envs/eden_env/lib/python2.7/site-packages/traitlets/traitlets.py:567: FutureWarning: comparison to `None` will result in an elementwise object comparison in the future.\n",
      "  silent = bool(old_value == new_value)\n"
     ]
    }
   ],
   "source": [
    "from display import interactive_widget\n",
    "\n",
    "w = interactive_widget(data_matrix, target_dict, y)"
   ]
  },
  {
   "cell_type": "code",
   "execution_count": 18,
   "metadata": {},
   "outputs": [
    {
     "data": {
      "application/vnd.jupyter.widget-view+json": {
       "model_id": "f5b549029de945a983a64c2a98a5d103"
      }
     },
     "metadata": {},
     "output_type": "display_data"
    },
    {
     "data": {
      "image/png": "[encoded data removed]",
      "text/plain": [
       "<matplotlib.figure.Figure at 0x7f7828049390>"
      ]
     },
     "metadata": {},
     "output_type": "display_data"
    },
    {
     "data": {
      "image/png": "[encoded data removed]",
      "text/plain": [
       "<matplotlib.figure.Figure at 0x7f77d5da2210>"
      ]
     },
     "metadata": {},
     "output_type": "display_data"
    }
   ],
   "source": [
    "from IPython.display import display\n",
    "display(w)"
   ]
  },
  {
   "cell_type": "markdown",
   "metadata": {},
   "source": [
    "---"
   ]
  }
 ],
 "metadata": {
  "kernelspec": {
   "display_name": "Python 2",
   "language": "python",
   "name": "python2"
  },
  "language_info": {
   "codemirror_mode": {
    "name": "ipython",
    "version": 2
   },
   "file_extension": ".py",
   "mimetype": "text/x-python",
   "name": "python",
   "nbconvert_exporter": "python",
   "pygments_lexer": "ipython2",
   "version": "2.7.13"
  },
  "widgets": {
   "state": {
    "7cae748a3a8545b3a32c61ff0b681a0a": {
     "views": [
      {
       "cell_index": 20
      }
     ]
    }
   },
   "version": "1.2.0"
  }
 },
 "nbformat": 4,
 "nbformat_minor": 1
}
